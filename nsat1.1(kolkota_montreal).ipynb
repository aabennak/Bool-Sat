{
 "cells": [
  {
   "cell_type": "code",
   "execution_count": 3,
   "id": "a5d44898",
   "metadata": {},
   "outputs": [],
   "source": [
    "import numpy as np\n",
    "from collections import defaultdict\n",
    "from qiskit import Aer\n",
    "from qiskit.visualization import plot_histogram\n",
    "from qiskit.utils import QuantumInstance\n",
    "from qiskit.algorithms import Grover, AmplificationProblem\n",
    "from qiskit.circuit.library import PhaseOracle\n",
    "#from qiskit.test.mock import FakeQuito\n",
    "from qiskit.compiler import transpile\n",
    "from qiskit import assemble\n",
    "from qiskit import IBMQ\n",
    "from qiskit import execute\n",
    "from qiskit.tools import job_monitor\n",
    "from qiskit import *\n",
    "import matplotlib.pyplot as plt\n",
    "import mapomatic as mm\n",
    "IBMQ.save_account('', overwrite=True)\n",
    "IBMQ.load_account()\n",
    "#provider = IBMQ.get_provider(hub = 'ibm-q')\n",
    "provider = IBMQ.get_provider(hub='ibm-q-ncsu', group='nc-state', project='vlsi-cad-tools')\n",
    "device = provider.get_backend('ibmq_kolkata')\n",
    "#quito = FakeQuito()\n",
    "circuit_list = []\n",
    "verification_list = []"
   ]
  },
  {
   "cell_type": "code",
   "execution_count": 4,
   "id": "452288f6",
   "metadata": {},
   "outputs": [],
   "source": [
    "class Verifier():\n",
    "    \"\"\"Create an object that can be used to check whether\n",
    "    an assignment satisfies a DIMACS file.\n",
    "        Args:\n",
    "            dimacs_file (str): path to the DIMACS file\n",
    "    \"\"\"\n",
    "    def __init__(self, dimacs_file):\n",
    "        with open(dimacs_file, 'r') as f:\n",
    "            self.dimacs = f.read()\n",
    "\n",
    "    def is_correct(self, guess):\n",
    "        \"\"\"Verifies a SAT solution against this object's\n",
    "        DIMACS file.\n",
    "            Args:\n",
    "                guess (str): Assignment to be verified.\n",
    "                             Must be string of 1s and 0s.\n",
    "            Returns:\n",
    "                bool: True if `guess` satisfies the\n",
    "                           problem. False otherwise.\n",
    "        \"\"\"\n",
    "        # Convert characters to bools & reverse\n",
    "        guess = [bool(int(x)) for x in guess][::-1]\n",
    "        for line in self.dimacs.split('\\n'):\n",
    "            line = line.strip(' 0')\n",
    "            clause_eval = False\n",
    "            for literal in line.split(' '):\n",
    "                if literal in ['p', 'c']:\n",
    "                    # line is not a clause\n",
    "                    clause_eval = True\n",
    "                    break\n",
    "                if '-' in literal:\n",
    "                    literal = literal.strip('-')\n",
    "                    lit_eval = not guess[int(literal)-1]\n",
    "                else:\n",
    "                    lit_eval = guess[int(literal)-1]\n",
    "                clause_eval |= lit_eval\n",
    "            if clause_eval is False:\n",
    "                return False\n",
    "        return True"
   ]
  },
  {
   "cell_type": "code",
   "execution_count": null,
   "id": "771b2398",
   "metadata": {},
   "outputs": [],
   "source": [
    "##import pickle\n",
    "##open_file = open(\"kol_dimacs/comp_list.pkl\", \"wb\")\n",
    "##open_verify_file = open(\"kol_dimacs/veri_list.pkl\", \"wb\")\n",
    "##pickle.dump(circuit_list, open_file)\n",
    "##pickle.dump(verification_list, open_verify_file)\n",
    "\n",
    "##open_file.close()\n",
    "##open_verify_file.close()"
   ]
  },
  {
   "cell_type": "code",
   "execution_count": null,
   "id": "99db0ccf",
   "metadata": {},
   "outputs": [],
   "source": [
    "import pickle\n",
    "open_file = open(\"kol_dimacs/comp_list.pkl\", \"rb\")\n",
    "circuit_list = pickle.load(open_file)\n",
    "open_file.close()\n",
    "\n",
    "open_verify_file = open(\"kol_dimacs/veri_list.pkl\", \"rb\")\n",
    "verification_list = pickle.load(open_verify_file)\n",
    "open_file.close()"
   ]
  },
  {
   "cell_type": "code",
   "execution_count": null,
   "id": "3b3a8915",
   "metadata": {},
   "outputs": [],
   "source": [
    "#job = device.retrieve_job(\"6321d827e150f112839ddd0c\")\n",
    "#print(job)"
   ]
  },
  {
   "cell_type": "code",
   "execution_count": null,
   "id": "b65d45a9",
   "metadata": {
    "scrolled": true
   },
   "outputs": [],
   "source": [
    "job = execute(circuit_list,backend = device,shots = 8192)\n",
    "print(job.job_id())"
   ]
  },
  {
   "cell_type": "code",
   "execution_count": null,
   "id": "f3cbdd56",
   "metadata": {},
   "outputs": [],
   "source": [
    "job_monitor(job)\n",
    "device_result = job.result()\n",
    "#plot_histogram(device_result.get_counts())"
   ]
  },
  {
   "cell_type": "code",
   "execution_count": null,
   "id": "6c273c78",
   "metadata": {
    "scrolled": false
   },
   "outputs": [],
   "source": [
    "#v = Verifier('dimacs/demosatN3Ands7Ors16NotComp0.7.dimacs')\n",
    "#v.is_correct('111')\n",
    "job_counter = 0\n",
    "N=9\n",
    "for andIter in range(N*2,N*2+1):#the ands (N*2,N*2+1)\n",
    "    for orIter in range(andIter*2, andIter*2 + 1): #the ors (andIter*2,(N-1)*(andIter+1)+1, N)\n",
    "        for notIter in range(3, 9, 2): #not composition\n",
    "            thenotcomp = notIter*0.1\n",
    "            filename = \"kol_dimacs/demosatN\"+str(N)+\"Ands\"+str(andIter)+\"Ors\"+str(orIter)+\"NotComp\"+format(thenotcomp, '.1f')+\".dimacs\"\n",
    "            v = Verifier(filename)\n",
    "            #print(max(device_result.get_counts()[job_counter], key=device_result.get_counts()[job_counter].get))\n",
    "            print(v.is_correct(max(device_result.get_counts()[job_counter], key=device_result.get_counts()[job_counter].get)))\n",
    "            job_counter +=1"
   ]
  },
  {
   "cell_type": "code",
   "execution_count": null,
   "id": "9ebb9c7e",
   "metadata": {},
   "outputs": [],
   "source": []
  },
  {
   "cell_type": "code",
   "execution_count": null,
   "id": "402b6c4d",
   "metadata": {},
   "outputs": [],
   "source": [
    "print(len(device_result.get_counts()))"
   ]
  }
 ],
 "metadata": {
  "kernelspec": {
   "display_name": "Python 3 (ipykernel)",
   "language": "python",
   "name": "python3"
  },
  "language_info": {
   "codemirror_mode": {
    "name": "ipython",
    "version": 3
   },
   "file_extension": ".py",
   "mimetype": "text/x-python",
   "name": "python",
   "nbconvert_exporter": "python",
   "pygments_lexer": "ipython3",
   "version": "3.9.13"
  }
 },
 "nbformat": 4,
 "nbformat_minor": 5
}
