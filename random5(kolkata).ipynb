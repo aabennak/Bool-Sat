{
 "cells": [
  {
   "cell_type": "code",
   "execution_count": 1,
   "id": "953159ce",
   "metadata": {},
   "outputs": [],
   "source": [
    "import numpy as np\n",
    "from qiskit_experiments.library import StandardRB, InterleavedRB\n",
    "from qiskit_experiments.framework import ParallelExperiment, BatchExperiment\n",
    "import qiskit.circuit.library as circuits"
   ]
  },
  {
   "cell_type": "code",
   "execution_count": 2,
   "id": "2d0341e0",
   "metadata": {},
   "outputs": [],
   "source": [
    "from qiskit import assemble\n",
    "from qiskit_ibm_provider import IBMProvider\n",
    "#from qiskit import IBMQ\n",
    "#from qiskit import execute\n",
    "#from qiskit.tools import job_monitor"
   ]
  },
  {
   "cell_type": "code",
   "execution_count": 3,
   "id": "909bad51",
   "metadata": {},
   "outputs": [
    {
     "data": {
      "text/plain": [
       "<IBMProvider>"
      ]
     },
     "execution_count": 3,
     "metadata": {},
     "output_type": "execute_result"
    }
   ],
   "source": [
    "IBMProvider.save_account('', overwrite=True)\n",
    "IBMProvider()"
   ]
  },
  {
   "cell_type": "code",
   "execution_count": 4,
   "id": "0a20371d",
   "metadata": {},
   "outputs": [],
   "source": [
    "#provider = IBMProvider(instance=\"ibm-q-ncsu/nc-state/vlsi-cad-tools\")\n",
    "provider = IBMProvider(instance=\"ibm-q-ncsu/reservations/reservations\")\n",
    "backend = provider.get_backend('ibmq_kolkata')"
   ]
  },
  {
   "cell_type": "code",
   "execution_count": null,
   "id": "e98b1699",
   "metadata": {},
   "outputs": [],
   "source": [
    "lengths_2_qubit = np.arange(1, 10, 3)\n",
    "lengths_1_qubit = np.arange(1, 800, 200)\n",
    "num_samples = 10\n",
    "seed = 1010\n",
    "qubits = (0, 1,2,3,4)\n",
    "exp_2q = StandardRB(qubits, lengths_2_qubit, num_samples=num_samples, seed=seed)"
   ]
  },
  {
   "cell_type": "code",
   "execution_count": null,
   "id": "5ad35fb4",
   "metadata": {},
   "outputs": [],
   "source": [
    "exp_2q.circuits()[0].decompose().depth()"
   ]
  },
  {
   "cell_type": "code",
   "execution_count": null,
   "id": "df5c0b62",
   "metadata": {},
   "outputs": [],
   "source": [
    "exp_2q.circuits()[0].draw('mpl')"
   ]
  },
  {
   "cell_type": "code",
   "execution_count": null,
   "id": "40e13233",
   "metadata": {},
   "outputs": [],
   "source": [
    "print(c.decompose().depth())\n",
    "c.decompose().draw(\"mpl\")"
   ]
  }
 ],
 "metadata": {
  "kernelspec": {
   "display_name": "Python 3 (ipykernel)",
   "language": "python",
   "name": "python3"
  },
  "language_info": {
   "codemirror_mode": {
    "name": "ipython",
    "version": 3
   },
   "file_extension": ".py",
   "mimetype": "text/x-python",
   "name": "python",
   "nbconvert_exporter": "python",
   "pygments_lexer": "ipython3",
   "version": "3.9.18"
  }
 },
 "nbformat": 4,
 "nbformat_minor": 5
}
