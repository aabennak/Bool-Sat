{
 "cells": [
  {
   "cell_type": "code",
   "execution_count": 1,
   "id": "953159ce",
   "metadata": {},
   "outputs": [],
   "source": [
    "import numpy as np\n",
    "from qiskit_experiments.library import StandardRB, InterleavedRB\n",
    "from qiskit_experiments.framework import ParallelExperiment, BatchExperiment\n",
    "import qiskit.circuit.library as circuits"
   ]
  },
  {
   "cell_type": "code",
   "execution_count": 2,
   "id": "2d0341e0",
   "metadata": {},
   "outputs": [],
   "source": [
    "from qiskit import assemble\n",
    "from qiskit_ibm_provider import IBMProvider\n",
    "#from qiskit import IBMQ\n",
    "from qiskit import execute\n",
    "from qiskit.tools import job_monitor"
   ]
  },
  {
   "cell_type": "code",
   "execution_count": 3,
   "id": "909bad51",
   "metadata": {},
   "outputs": [
    {
     "data": {
      "text/plain": [
       "<IBMProvider>"
      ]
     },
     "execution_count": 3,
     "metadata": {},
     "output_type": "execute_result"
    }
   ],
   "source": [
    "IBMProvider.save_account('', overwrite=True)\n",
    "IBMProvider()"
   ]
  },
  {
   "cell_type": "code",
   "execution_count": 4,
   "id": "0a20371d",
   "metadata": {},
   "outputs": [],
   "source": [
    "provider = IBMProvider(instance=\"ibm-q-ncsu/nc-state/vlsi-cad-tools\")\n",
    "backend = provider.get_backend('ibm_hanoi')"
   ]
  },
  {
   "cell_type": "code",
   "execution_count": 5,
   "id": "2004e21d",
   "metadata": {},
   "outputs": [],
   "source": [
    "lengths_x_qubit = np.arange(1, 10, 3)\n",
    "lengths_1_qubit = np.arange(1, 800, 200)\n",
    "num_samples = 10\n",
    "seed = 1010\n",
    "qubits = (0, 1,2,3,4,5)\n",
    "\n",
    "# Run a 1-qubit RB experiment on qubits 1 to determine the error-per-gate of 1-qubit gates\n",
    "single_exps = BatchExperiment(\n",
    "    [\n",
    "        StandardRB([qubit], lengths_1_qubit, num_samples=num_samples, seed=seed)\n",
    "        for qubit in qubits\n",
    "    ],\n",
    "    flatten_results=True,\n",
    ")\n",
    "expdata_1q = single_exps.run(backend).block_for_results()"
   ]
  },
  {
   "cell_type": "code",
   "execution_count": 6,
   "id": "ebbf4cb9",
   "metadata": {
    "scrolled": true
   },
   "outputs": [
    {
     "name": "stderr",
     "output_type": "stream",
     "text": [
      "Job was cancelled before completion [Job ID: cpjs54w6q5h0008bjmb0]\n"
     ]
    },
    {
     "name": "stdout",
     "output_type": "stream",
     "text": [
      "Gate error ratio: default\n"
     ]
    },
    {
     "ename": "ExperimentEntryNotFound",
     "evalue": "'Figure 0 not found.'",
     "output_type": "error",
     "traceback": [
      "\u001b[1;31m---------------------------------------------------------------------------\u001b[0m",
      "\u001b[1;31mExperimentEntryNotFound\u001b[0m                   Traceback (most recent call last)",
      "Input \u001b[1;32mIn [6]\u001b[0m, in \u001b[0;36m<cell line: 11>\u001b[1;34m()\u001b[0m\n\u001b[0;32m      9\u001b[0m \u001b[38;5;66;03m# View result data\u001b[39;00m\n\u001b[0;32m     10\u001b[0m \u001b[38;5;28mprint\u001b[39m(\u001b[38;5;124m\"\u001b[39m\u001b[38;5;124mGate error ratio: \u001b[39m\u001b[38;5;132;01m%s\u001b[39;00m\u001b[38;5;124m\"\u001b[39m \u001b[38;5;241m%\u001b[39m expdata_xq\u001b[38;5;241m.\u001b[39mexperiment\u001b[38;5;241m.\u001b[39manalysis\u001b[38;5;241m.\u001b[39moptions\u001b[38;5;241m.\u001b[39mgate_error_ratio)\n\u001b[1;32m---> 11\u001b[0m display(\u001b[43mexpdata_xq\u001b[49m\u001b[38;5;241;43m.\u001b[39;49m\u001b[43mfigure\u001b[49m\u001b[43m(\u001b[49m\u001b[38;5;241;43m0\u001b[39;49m\u001b[43m)\u001b[49m)\n\u001b[0;32m     12\u001b[0m \u001b[38;5;28;01mfor\u001b[39;00m result \u001b[38;5;129;01min\u001b[39;00m expdata_xq\u001b[38;5;241m.\u001b[39manalysis_results():\n\u001b[0;32m     13\u001b[0m     \u001b[38;5;28mprint\u001b[39m(result)\n",
      "File \u001b[1;32m~\\anaconda3\\envs\\qc_env\\lib\\site-packages\\qiskit_experiments\\framework\\experiment_data.py:1147\u001b[0m, in \u001b[0;36mExperimentData.figure\u001b[1;34m(self, figure_key, file_name)\u001b[0m\n\u001b[0;32m   1145\u001b[0m \u001b[38;5;28;01mif\u001b[39;00m \u001b[38;5;28misinstance\u001b[39m(figure_key, \u001b[38;5;28mint\u001b[39m):\n\u001b[0;32m   1146\u001b[0m     \u001b[38;5;28;01mif\u001b[39;00m figure_key \u001b[38;5;241m<\u001b[39m \u001b[38;5;241m0\u001b[39m \u001b[38;5;129;01mor\u001b[39;00m figure_key \u001b[38;5;241m>\u001b[39m\u001b[38;5;241m=\u001b[39m \u001b[38;5;28mlen\u001b[39m(\u001b[38;5;28mself\u001b[39m\u001b[38;5;241m.\u001b[39m_figures\u001b[38;5;241m.\u001b[39mkeys()):\n\u001b[1;32m-> 1147\u001b[0m         \u001b[38;5;28;01mraise\u001b[39;00m ExperimentEntryNotFound(\u001b[38;5;124mf\u001b[39m\u001b[38;5;124m\"\u001b[39m\u001b[38;5;124mFigure \u001b[39m\u001b[38;5;132;01m{\u001b[39;00mfigure_key\u001b[38;5;132;01m}\u001b[39;00m\u001b[38;5;124m not found.\u001b[39m\u001b[38;5;124m\"\u001b[39m)\n\u001b[0;32m   1148\u001b[0m     figure_key \u001b[38;5;241m=\u001b[39m \u001b[38;5;28mself\u001b[39m\u001b[38;5;241m.\u001b[39m_figures\u001b[38;5;241m.\u001b[39mkeys()[figure_key]\n\u001b[0;32m   1150\u001b[0m figure_data \u001b[38;5;241m=\u001b[39m \u001b[38;5;28mself\u001b[39m\u001b[38;5;241m.\u001b[39m_figures\u001b[38;5;241m.\u001b[39mget(figure_key, \u001b[38;5;28;01mNone\u001b[39;00m)\n",
      "\u001b[1;31mExperimentEntryNotFound\u001b[0m: 'Figure 0 not found.'"
     ]
    }
   ],
   "source": [
    "exp_xq = StandardRB(qubits, lengths_x_qubit, num_samples=num_samples, seed=seed)\n",
    "\n",
    "# Use the EPG data of the 1-qubit runs to ensure correct x-qubit EPG computation\n",
    "exp_xq.analysis.set_options(epg_1_qubit=expdata_1q.analysis_results())\n",
    "\n",
    "# Run the x-qubit experiment\n",
    "expdata_xq = exp_xq.run(backend, shots = 4000).block_for_results()\n",
    "\n",
    "# View result data\n",
    "print(\"Gate error ratio: %s\" % expdata_xq.experiment.analysis.options.gate_error_ratio)\n",
    "display(expdata_xq.figure(0))\n",
    "for result in expdata_xq.analysis_results():\n",
    "    print(result)"
   ]
  },
  {
   "cell_type": "code",
   "execution_count": null,
   "id": "5ad35fb4",
   "metadata": {},
   "outputs": [],
   "source": [
    "exp_xq.circuits()[29].decompose().depth()"
   ]
  },
  {
   "cell_type": "code",
   "execution_count": null,
   "id": "df5c0b62",
   "metadata": {},
   "outputs": [],
   "source": [
    "exp_xq.circuits()[0].draw('mpl')"
   ]
  },
  {
   "cell_type": "code",
   "execution_count": null,
   "id": "40e13233",
   "metadata": {},
   "outputs": [],
   "source": [
    "print(c.decompose().depth())\n",
    "c.decompose().draw(\"mpl\")"
   ]
  }
 ],
 "metadata": {
  "kernelspec": {
   "display_name": "Python 3 (ipykernel)",
   "language": "python",
   "name": "python3"
  },
  "language_info": {
   "codemirror_mode": {
    "name": "ipython",
    "version": 3
   },
   "file_extension": ".py",
   "mimetype": "text/x-python",
   "name": "python",
   "nbconvert_exporter": "python",
   "pygments_lexer": "ipython3",
   "version": "3.9.18"
  }
 },
 "nbformat": 4,
 "nbformat_minor": 5
}
